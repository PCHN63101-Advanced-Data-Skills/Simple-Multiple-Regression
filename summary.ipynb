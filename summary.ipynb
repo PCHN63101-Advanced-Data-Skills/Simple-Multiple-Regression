{
 "cells": [
  {
   "cell_type": "markdown",
   "id": "7c4a964b-a2bc-4d77-b1e8-6928da6b2b73",
   "metadata": {},
   "source": [
    "# Summary\n",
    "In this lesson, we have covered a lot of information around regression models. Starting with the idea of drawing a line through a cloud of points, we then formalised this approach using the statistical modelling framework discussed last week. This led us to the *simple linear regression* model, characterised by assuming a normal distribution of outcome values for each value of the predictor, where the mean function was defined using the equation for a straight line and the variance function was constant. We then discussed how the population parameters that define this line can be *estimated* from a sample of data. Although typically taught through the lens of least-squares, we instead introduced *maximum likelihood* as a more general-purpose approach to estimation that is grounded in the probabilistic assumptions made by the model. After discussing the interpretation of these estimates, we then turned to expanding *simple* regression into *multiple* regression, by adding more predictor variables. This transforms the regression *line* into a regression *plane* however, most of the information from simple regression remains applicable. The only major difference concerns the *interpretation* and subsequent *plotting* of the model parameters.\n",
    "\n",
    "Next week, we will stick to the topic of multiple regression and discuss *statistical inference* using the parameter estimates. This is one of the more controversial aspects of classical statistics, as we will need to discuss $p$-values both in terms of their interpretation, but also in terms of their flaws. We will also be examining how to explore whether the many assumptions we have made during this lesson actually hold for a specific dataset. Finally, we will explore data *transformations*, both as a means of aiding with any violated assumptions, but also as a means of improving both the model fit and model interpretation."
   ]
  },
  {
   "cell_type": "markdown",
   "id": "adc5e10b",
   "metadata": {},
   "source": []
  }
 ],
 "metadata": {
  "kernelspec": {
   "display_name": "R",
   "language": "R",
   "name": "ir"
  },
  "language_info": {
   "codemirror_mode": "r",
   "file_extension": ".r",
   "mimetype": "text/x-r-source",
   "name": "R",
   "pygments_lexer": "r",
   "version": "4.3.3"
  }
 },
 "nbformat": 4,
 "nbformat_minor": 5
}
