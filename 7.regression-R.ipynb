{
 "cells": [
  {
   "cell_type": "markdown",
   "id": "8a6b3fd6-1753-45e7-a920-fccf68cbdcac",
   "metadata": {},
   "source": [
    "# Building Regression Models in `R`\n",
    "... You will see more examples and get more experience with this in the associated practical session. However, it is useful to see a basic example before this."
   ]
  },
  {
   "cell_type": "markdown",
   "id": "ba05f671",
   "metadata": {},
   "source": [
    "## The `lm()` Function\n",
    "Regression models are built in `R` using the `lm()` function. Here, `lm` corresponds to *linear model*, which is the first hint that what we are doing is much more general than just fitting a regression model to the data. "
   ]
  },
  {
   "cell_type": "markdown",
   "id": "a4a048e4",
   "metadata": {},
   "source": []
  }
 ],
 "metadata": {
  "kernelspec": {
   "display_name": "R",
   "language": "R",
   "name": "ir"
  },
  "language_info": {
   "codemirror_mode": "r",
   "file_extension": ".r",
   "mimetype": "text/x-r-source",
   "name": "R",
   "pygments_lexer": "r",
   "version": "4.3.3"
  }
 },
 "nbformat": 4,
 "nbformat_minor": 5
}
