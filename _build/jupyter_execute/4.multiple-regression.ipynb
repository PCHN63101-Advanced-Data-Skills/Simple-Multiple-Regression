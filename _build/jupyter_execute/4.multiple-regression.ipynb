{
 "cells": [
  {
   "cell_type": "markdown",
   "id": "8a6b3fd6-1753-45e7-a920-fccf68cbdcac",
   "metadata": {},
   "source": [
    "# Multiple Linear Regression\n",
    "\n"
   ]
  },
  {
   "cell_type": "markdown",
   "id": "1946943f",
   "metadata": {},
   "source": [
    "## Fitting a *Plane* to Data"
   ]
  },
  {
   "cell_type": "markdown",
   "id": "9fd4051e",
   "metadata": {},
   "source": [
    "## The Normal Probability Model\n",
    "\n",
    "which we can more succintly write as\n",
    "\n",
    "$$\n",
    "\\begin{align*}\n",
    "    y_{i} &\\sim \\mathcal{N}\\left(\\mu_{i},\\sigma^{2}\\right) \\\\\n",
    "    \\mu_{i} &= \\beta_{0} + \\sum_{j=1}^{k} \\beta_{j}x_{ij},\n",
    "\\end{align*}\n",
    "$$\n",
    "\n",
    "or\n",
    "\n",
    "$$\n",
    "\\begin{align*}\n",
    "    y_{i} &= \\beta_{0} + \\sum_{j=1}^{k} \\beta_{j}x_{ij} + \\epsilon_{i} \\\\\n",
    "    \\epsilon_{i} &\\sim \\mathcal{N}\\left(0,\\sigma^{2}\\right).\n",
    "\\end{align*}\n",
    "$$\n",
    "\n",
    "See the box below if you are unfamiliar with \"big sigma\" notation."
   ]
  },
  {
   "cell_type": "markdown",
   "id": "366dadfa",
   "metadata": {},
   "source": [
    "`````{admonition} Big Sigma Notation\n",
    ":class: tip\n",
    "\n",
    "So the notation\n",
    "\n",
    "$$\n",
    "S = \\sum_{j=1}^{k} \\beta_{j}x_{j}\n",
    "$$\n",
    "\n",
    "is equivalent to\n",
    "\n",
    "$$\n",
    "S = \\beta_{1}x_{1} + \\beta_{2}x_{2} + \\beta_{3}x_{3},\n",
    "$$\n",
    "\n",
    "if we take $k=3$. In code, is the same as shortening\n",
    "\n",
    "```R\n",
    "S <- beta[1]*x[1] + beta[2]*x[2] + beta[3]*x[3]\n",
    "```\n",
    "\n",
    "to\n",
    "\n",
    "```R\n",
    "k <- 3\n",
    "S <- 0\n",
    "\n",
    "for (j in 1:k){\n",
    "    S <- S + beta[j]*x[j]\n",
    "}\n",
    "```\n",
    "So, you can think of the Big Sigma notation as a *summation loop* over a certain set of indices.\n",
    "\n",
    "`````"
   ]
  },
  {
   "cell_type": "markdown",
   "id": "3ae473ea",
   "metadata": {},
   "source": [
    "## Parameter Interpretation"
   ]
  },
  {
   "cell_type": "markdown",
   "id": "ba05f671",
   "metadata": {},
   "source": []
  }
 ],
 "metadata": {
  "kernelspec": {
   "display_name": "R",
   "language": "R",
   "name": "ir"
  },
  "language_info": {
   "codemirror_mode": "r",
   "file_extension": ".r",
   "mimetype": "text/x-r-source",
   "name": "R",
   "pygments_lexer": "r",
   "version": "4.3.3"
  }
 },
 "nbformat": 4,
 "nbformat_minor": 5
}