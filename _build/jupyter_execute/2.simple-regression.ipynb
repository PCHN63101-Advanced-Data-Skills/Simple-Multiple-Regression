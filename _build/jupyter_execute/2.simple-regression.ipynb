{
 "cells": [
  {
   "cell_type": "markdown",
   "id": "8a6b3fd6-1753-45e7-a920-fccf68cbdcac",
   "metadata": {},
   "source": [
    "# Simple Linear Regression\n",
    "\n"
   ]
  },
  {
   "cell_type": "markdown",
   "id": "ba05f671",
   "metadata": {},
   "source": [
    "## Fitting a Sraight-line to Data"
   ]
  },
  {
   "cell_type": "markdown",
   "id": "8f318b55",
   "metadata": {},
   "source": [
    "## The Simple Regression Probability Model\n",
    "\n",
    "$$\n",
    "\\begin{align*}\n",
    "    y_{i}   &\\sim \\mathcal{N}\\left(\\mu_{i},\\sigma^{2}\\right) \\\\\n",
    "    \\mu_{i} &= \\beta_{0} + \\beta_{1}x_{i}\n",
    "\\end{align*}\n",
    "$$"
   ]
  },
  {
   "cell_type": "markdown",
   "id": "17a890e9",
   "metadata": {},
   "source": [
    "## Parameter Estimation"
   ]
  },
  {
   "cell_type": "markdown",
   "id": "8f0c2d3a",
   "metadata": {},
   "source": [
    "## The Residuals"
   ]
  },
  {
   "cell_type": "markdown",
   "id": "ca65854e",
   "metadata": {},
   "source": []
  }
 ],
 "metadata": {
  "kernelspec": {
   "display_name": "R",
   "language": "R",
   "name": "ir"
  },
  "language_info": {
   "codemirror_mode": "r",
   "file_extension": ".r",
   "mimetype": "text/x-r-source",
   "name": "R",
   "pygments_lexer": "r",
   "version": "4.3.3"
  }
 },
 "nbformat": 4,
 "nbformat_minor": 5
}