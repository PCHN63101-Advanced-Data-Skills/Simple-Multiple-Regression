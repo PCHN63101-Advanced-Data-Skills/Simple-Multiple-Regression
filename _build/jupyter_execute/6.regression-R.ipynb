{
 "cells": [
  {
   "cell_type": "markdown",
   "id": "8a6b3fd6-1753-45e7-a920-fccf68cbdcac",
   "metadata": {},
   "source": [
    "# Building Regression Models in `R`\n",
    "... You will see more examples and get more experience with this in the associated practical session. However, it is useful to see a basic example before this."
   ]
  },
  {
   "cell_type": "markdown",
   "id": "ba05f671",
   "metadata": {},
   "source": [
    "## The `lm()` Function\n",
    "Regression models are built in `R` using the `lm()` function. Here, `lm` corresponds to *linear model*, which is the first hint that what we are doing is much more general than just fitting a regression model to the data. "
   ]
  },
  {
   "cell_type": "markdown",
   "id": "76e65dfb",
   "metadata": {},
   "source": [
    "## Regression Results"
   ]
  },
  {
   "cell_type": "code",
   "execution_count": 1,
   "id": "0afe4d0f",
   "metadata": {
    "vscode": {
     "languageId": "r"
    }
   },
   "outputs": [
    {
     "data": {
      "text/plain": [
       "\n",
       "Call:\n",
       "lm(formula = mpg ~ wt + hp, data = mtcars)\n",
       "\n",
       "Residuals:\n",
       "   Min     1Q Median     3Q    Max \n",
       "-3.941 -1.600 -0.182  1.050  5.854 \n",
       "\n",
       "Coefficients:\n",
       "            Estimate Std. Error t value Pr(>|t|)    \n",
       "(Intercept) 37.22727    1.59879  23.285  < 2e-16 ***\n",
       "wt          -3.87783    0.63273  -6.129 1.12e-06 ***\n",
       "hp          -0.03177    0.00903  -3.519  0.00145 ** \n",
       "---\n",
       "Signif. codes:  0 ‘***’ 0.001 ‘**’ 0.01 ‘*’ 0.05 ‘.’ 0.1 ‘ ’ 1\n",
       "\n",
       "Residual standard error: 2.593 on 29 degrees of freedom\n",
       "Multiple R-squared:  0.8268,\tAdjusted R-squared:  0.8148 \n",
       "F-statistic: 69.21 on 2 and 29 DF,  p-value: 9.109e-12\n"
      ]
     },
     "metadata": {},
     "output_type": "display_data"
    }
   ],
   "source": [
    "data(mtcars)\n",
    "mod <- lm(mpg ~ wt + hp, data=mtcars)\n",
    "summary(mod)"
   ]
  },
  {
   "cell_type": "markdown",
   "id": "f0438010",
   "metadata": {},
   "source": [
    "### Understanding the Output Table\n",
    "\n",
    "The first section just repeats the call to `lm` that was used, so we have a record of what was used to generate the results.\n",
    "\n",
    "```R\n",
    "Call:\n",
    "lm(formula = mpg ~ wt + hp, data = mtcars)\n",
    "```\n",
    "\n",
    "Next, we have some descriptive of the distribution of the residuals. These descriptives are useful because we would expect the median to be around 0, the 1st and 3rd quantile to be similar (save for the sign) to indicate a symmetric distribution and the min/max values to both be similar and not too large (on the scale of MPG), to exclude any outliers. We will dive into this in much more detail next week.\n",
    "\n",
    "```R\n",
    "Residuals:\n",
    "   Min     1Q Median     3Q    Max \n",
    "-3.941 -1.600 -0.182  1.050  5.854 \n",
    "```\n",
    "\n",
    "Below this, we have the actual results table, providing the estimates of each of the parameters. In addition, there is other information listed that is relevant to *statistical inference*, which will be part of our focus next week. FOr the time being, these other values can be ignored. Within the context of our model, we therefore have $\\hat{\\beta}_{0} = 37.23$, $\\hat{\\beta}_{1} = -3.88$ and $\\hat{\\beta}_{2} = -0.032$.\n",
    "\n",
    "```R\n",
    "Coefficients:\n",
    "            Estimate Std. Error t value Pr(>|t|)    \n",
    "(Intercept) 37.22727    1.59879  23.285  < 2e-16 ***\n",
    "wt          -3.87783    0.63273  -6.129 1.12e-06 ***\n",
    "hp          -0.03177    0.00903  -3.519  0.00145 ** \n",
    "---\n",
    "Signif. codes:  0 ‘***’ 0.001 ‘**’ 0.01 ‘*’ 0.05 ‘.’ 0.1 ‘ ’ 1\n",
    "```\n",
    "\n",
    "At the very bottom of the output, we have some additional information about the model\n",
    "\n",
    "```R\n",
    "Residual standard error: 2.593 on 29 degrees of freedom\n",
    "Multiple R-squared:  0.8268,\tAdjusted R-squared:  0.8148 \n",
    "F-statistic: 69.21 on 2 and 29 DF,  p-value: 9.109e-12\n",
    "```\n",
    "\n",
    "The residual standard error is the square-root of the variance estimated from the residuals. In other words, this given $\\sqrt{\\hat{\\sigma}^{2}} = \\hat{\\sigma}$. Everything else relates largely to *model fit*, which we will be discussing further next week."
   ]
  },
  {
   "cell_type": "markdown",
   "id": "a4a048e4",
   "metadata": {},
   "source": []
  }
 ],
 "metadata": {
  "kernelspec": {
   "display_name": "R",
   "language": "R",
   "name": "ir"
  },
  "language_info": {
   "codemirror_mode": "r",
   "file_extension": ".r",
   "mimetype": "text/x-r-source",
   "name": "R",
   "pygments_lexer": "r",
   "version": "4.5.0"
  }
 },
 "nbformat": 4,
 "nbformat_minor": 5
}