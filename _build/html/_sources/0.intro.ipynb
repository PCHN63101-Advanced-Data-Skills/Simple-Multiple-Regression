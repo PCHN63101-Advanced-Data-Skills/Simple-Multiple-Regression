{
 "cells": [
  {
   "cell_type": "markdown",
   "id": "0aff9971-428c-4632-8dcc-2451ce81b45b",
   "metadata": {
    "tags": []
   },
   "source": [
    "# Introduction\n",
    "Last week, we introduced a very general framework for statistical modelling. This week, we will start to see this framework being applied using the methods of *simple* and *multiple* regression. Although traditional statistical education within the behavioural sciences often characterises regression as just a method for prediction with continuous *outcome* variables and continuous *predictor* variables, the regression framework is actually much more general. Indeed, regression is the *foundation* of everything that will follow, providing a general-purpose system for analysing any type of data you may encounter. As such, understanding regression is paramount for understanding what will follow. In this lesson, we will explore simple regression within the statistical modelling framework we discussed last week. We will discuss estimation via both *least-squares* and *maximum likelihood*, as well as interpretation of the simple regression model. We will then expand this to cases of *multiple* regression. Importantly, we will not be discussing *inference* yet. This is partly to keep the amount of information in this lesson contained, but also because the calculation of $p$-values should not be seen as the primary goal of a regression analysis. As such, it is useful to discuss regression methods *without* being distracted by inference. We will cover this next week, but it is important to realise that $p$-values represent only a single piece of (arguably flawed) information within the context of a data analysis.  \n",
    "\n",
    "## Contents\n",
    "\n",
    "```{tableofcontents}\n",
    "```\n",
    "\n",
    "## About the Authors\n",
    "<br/>\n",
    "\n",
    "```{figure} images/martyn.jpeg\n",
    "---\n",
    "scale: 15%\n",
    "align: left\n",
    "---\n",
    "```\n",
    "\n",
    "**Dr Martyn McFarquhar | PhD FHEA**\n",
    "\n",
    "Lecturer in Neuroimaging\n",
    "\n",
    "4.33 Booth Street East | Division of Psychology, Communication and Human Neuroscience | School of Health Sciences | The University of Manchester M13 9PL\n",
    "\n",
    "t: +44 (0)161 275 2688 | e: [martyn.mcfarquhar@manchester.ac.uk](mailto:martyn.mcfarquhar@manchester.ac.uk)\n",
    "<br/>\n",
    "<br/>\n",
    "<br/>\n",
    "\n",
    "```{figure} images/george.jpg\n",
    "---\n",
    "scale: 80%\n",
    "align: right\n",
    "---\n",
    "```\n",
    "\n",
    "**Dr George Farmer | PhD**\n",
    "\n",
    "Lecturer \n",
    "\n",
    "... Dover Street Building | Division of Psychology, Communication and Human Neuroscience | School of Health Sciences | The University of Manchester M13 9PL\n",
    "\n",
    "t: +44 (0)161 275 ... | e: [george.farmer@manchester.ac.uk](mailto:george.farmer@manchester.ac.uk)"
   ]
  },
  {
   "cell_type": "markdown",
   "id": "1b4597ad",
   "metadata": {},
   "source": []
  }
 ],
 "metadata": {
  "kernelspec": {
   "display_name": "R",
   "language": "R",
   "name": "ir"
  },
  "language_info": {
   "codemirror_mode": "r",
   "file_extension": ".r",
   "mimetype": "text/x-r-source",
   "name": "R",
   "pygments_lexer": "r",
   "version": "4.3.3"
  }
 },
 "nbformat": 4,
 "nbformat_minor": 5
}
