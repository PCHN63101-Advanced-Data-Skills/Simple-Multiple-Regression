{
 "cells": [
  {
   "cell_type": "markdown",
   "id": "8a6b3fd6-1753-45e7-a920-fccf68cbdcac",
   "metadata": {},
   "source": [
    "# Multiple Linear Regression\n",
    "... The nice thing about muliple regression is that most of the ideas from simple regression still apply. This makes it relatively easy to move from simple regression to muliple regression.\n"
   ]
  },
  {
   "cell_type": "markdown",
   "id": "1946943f",
   "metadata": {},
   "source": [
    "## Fitting a *Plane* to Data"
   ]
  },
  {
   "cell_type": "markdown",
   "id": "9fd4051e",
   "metadata": {},
   "source": [
    "## The Normal Probability Model\n",
    "\n",
    "which we can more succintly write as\n",
    "\n",
    "$$\n",
    "\\begin{align*}\n",
    "    y_{i} &\\sim \\mathcal{N}\\left(\\mu_{i},\\sigma^{2}\\right) \\\\\n",
    "    \\mu_{i} &= \\beta_{0} + \\sum_{j=1}^{k} \\beta_{j}x_{ij},\n",
    "\\end{align*}\n",
    "$$\n",
    "\n",
    "or\n",
    "\n",
    "$$\n",
    "\\begin{align*}\n",
    "    y_{i} &= \\beta_{0} + \\sum_{j=1}^{k} \\beta_{j}x_{ij} + \\epsilon_{i} \\\\\n",
    "    \\epsilon_{i} &\\sim \\mathcal{N}\\left(0,\\sigma^{2}\\right).\n",
    "\\end{align*}\n",
    "$$\n",
    "\n",
    "See the box below if you are unfamiliar with \"big sigma\" notation."
   ]
  },
  {
   "cell_type": "markdown",
   "id": "366dadfa",
   "metadata": {},
   "source": [
    "`````{admonition} Big Sigma Notation\n",
    ":class: tip\n",
    "\n",
    "So the notation\n",
    "\n",
    "$$\n",
    "S = \\sum_{j=1}^{k} \\beta_{j}x_{j}\n",
    "$$\n",
    "\n",
    "is equivalent to\n",
    "\n",
    "$$\n",
    "S = \\beta_{1}x_{1} + \\beta_{2}x_{2} + \\beta_{3}x_{3},\n",
    "$$\n",
    "\n",
    "if we take $k=3$. In code, is the same as shortening\n",
    "\n",
    "```R\n",
    "S <- beta[1]*x[1] + beta[2]*x[2] + beta[3]*x[3]\n",
    "```\n",
    "\n",
    "to\n",
    "\n",
    "```R\n",
    "k <- 3\n",
    "S <- 0\n",
    "\n",
    "for (j in 1:k){\n",
    "    S <- S + beta[j]*x[j]\n",
    "}\n",
    "```\n",
    "So, you can think of the Big Sigma notation as a *summation loop* over a certain set of indices.\n",
    "\n",
    "`````"
   ]
  },
  {
   "cell_type": "markdown",
   "id": "5d5a8acc",
   "metadata": {},
   "source": [
    "## Parameter Estimation\n",
    "Estimation of the parameters proceeds in the same fashion as simple regression, using either a least-squares or likelihood perspective. Like all linear models, exact solutions exist for the parameter estimates meaning the results are the same either way."
   ]
  },
  {
   "cell_type": "markdown",
   "id": "3ae473ea",
   "metadata": {},
   "source": [
    "## Parameter Interpretation\n",
    "... This dependence between parameters can be thought of like trying to balance the regression plane. You cannot balance the plane by only looking within a single dimension. Instead, you need to consider all variables together to provide a good balance. Importantly, this means that you cannot expect the estimates from simple regression to be the same as multiple regression and any attempt to equate the two is flawed. This is most applicable when it comes to *plotting* the multiple regression effects. You cannot just plot multiple simple regressions and expect the result to be accurate."
   ]
  },
  {
   "cell_type": "markdown",
   "id": "ba05f671",
   "metadata": {},
   "source": []
  }
 ],
 "metadata": {
  "kernelspec": {
   "display_name": "R",
   "language": "R",
   "name": "ir"
  },
  "language_info": {
   "codemirror_mode": "r",
   "file_extension": ".r",
   "mimetype": "text/x-r-source",
   "name": "R",
   "pygments_lexer": "r",
   "version": "4.3.3"
  }
 },
 "nbformat": 4,
 "nbformat_minor": 5
}
